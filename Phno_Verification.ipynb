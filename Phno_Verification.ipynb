{
 "cells": [
  {
   "cell_type": "code",
   "execution_count": null,
   "id": "bd34d82f-cdcd-433f-af4b-bea0e2a95efc",
   "metadata": {},
   "outputs": [],
   "source": [
    "import pandas as pd\n",
    "import selenium\n",
    "from selenium import webdriver\n",
    "from selenium.webdriver.support.ui import WebDriverWait\n",
    "from selenium.common.exceptions import NoSuchElementException\n",
    "import time\n",
    "import multiprocessing\n",
    "import os"
   ]
  },
  {
   "cell_type": "code",
   "execution_count": null,
   "id": "ed76822f-1f98-4919-8a84-693c9bbe1f58",
   "metadata": {},
   "outputs": [],
   "source": [
    "df1 = pd.read_csv('../sample_1_db_email_and_phone.csv')"
   ]
  },
  {
   "cell_type": "code",
   "execution_count": null,
   "id": "2cfe133f-95db-477a-be13-2cb68ef442c2",
   "metadata": {},
   "outputs": [],
   "source": [
    "df2 = pd.read_excel('sample_1_all_files_email_and_phone.xlsx')"
   ]
  },
  {
   "cell_type": "code",
   "execution_count": null,
   "id": "7aeec945-d4c8-4136-b4fc-4663af7f32fb",
   "metadata": {},
   "outputs": [],
   "source": [
    "list1 = [df1,df2]"
   ]
  },
  {
   "cell_type": "code",
   "execution_count": null,
   "id": "f00b33b7-c016-43e3-82d6-d59de417c48a",
   "metadata": {},
   "outputs": [],
   "source": [
    "df_concat = pd.concat(list1)"
   ]
  },
  {
   "cell_type": "code",
   "execution_count": null,
   "id": "5e836589-bab3-46c1-9555-f45ec053458c",
   "metadata": {},
   "outputs": [],
   "source": [
    "df_concat.shape"
   ]
  },
  {
   "cell_type": "code",
   "execution_count": null,
   "id": "156b8ec4-9b1d-40d4-a084-2333aa59e8c8",
   "metadata": {},
   "outputs": [],
   "source": [
    "phone_numbers = []\n",
    "for i in df_concat['phone']:\n",
    "    a = (i).split(',')\n",
    "    # print(len(a))\n",
    "    for j in range(0,len(a)):\n",
    "        phone_numbers.append(a[j].replace('[','').replace(']','').replace(\"'\",''))"
   ]
  },
  {
   "cell_type": "code",
   "execution_count": null,
   "id": "82df1821-80ff-4bf7-82c8-8451082a0e56",
   "metadata": {},
   "outputs": [],
   "source": [
    "phone_numbers = phone_numbers[:10]"
   ]
  },
  {
   "cell_type": "code",
   "execution_count": null,
   "id": "553e3ae5-b4de-44f3-ac0e-96ea66fcfe1f",
   "metadata": {},
   "outputs": [],
   "source": [
    "phone_numbers[1]"
   ]
  },
  {
   "cell_type": "code",
   "execution_count": null,
   "id": "ddf8480a-f58f-43f9-8585-d9eab68fb84a",
   "metadata": {},
   "outputs": [],
   "source": [
    "def phone_number(number):\n",
    "    \n",
    "    #initializing the the edge webdriver.\n",
    "    driver = webdriver.Edge('C:/Users/Vivek D/Downloads/msedgedriver')\n",
    "    \n",
    "    #Maximizing the window of the browser.\n",
    "    driver.maximize_window()\n",
    "    \n",
    "    #Getting the desired URL/webpage opened in the browser.\n",
    "    driver.get('https://www.phonevalidator.com/')\n",
    "    \n",
    "    #wait the ready state to be complete\n",
    "    WebDriverWait(driver=driver, timeout=20).until(lambda x: x.execute_script(\"return document.readyState === 'complete'\"))\n",
    "\n",
    "    time.sleep(3)\n",
    "    #click on the authentication button\n",
    "    driver.find_element('xpath',value='//*[@id=\"AuthCookieButton\"]').click()\n",
    "    \n",
    "    #Finding text box to enter the phone number and entering the number in the textbox.\n",
    "    driver.find_element('xpath',value='//*[@id=\"FoneNumur\"]').send_keys(number)\n",
    "    \n",
    "    #Clicking the search button after entering the phone number.\n",
    "    driver.find_element('xpath',value='//*[@id=\"tymdusnotub\"]').click()\n",
    "    \n",
    "    #Wait for the webpage to fetch the results.\n",
    "    WebDriverWait(driver=driver, timeout=20).until(lambda x: x.execute_script(\"return document.readyState === 'complete'\"))\n",
    "    try:\n",
    "        \n",
    "        if driver.find_element('xpath', value='//*[@id=\"search-result-top-div\"]/div/p[1]').text == 'FAKE NUMBER FOUND!':\n",
    "            ph_number_type.append({number:'FAKE NUMBER FOUND!'})\n",
    "        else:\n",
    "            pass\n",
    "    except NoSuchElementException:\n",
    "            #Getting the text of the result generated.\n",
    "            text = driver.find_element('xpath', value='//*[@id=\"search-result-top-div\"]/div[1]').text\n",
    "            \n",
    "            #Slicing the string of result to get just Type of Number.\n",
    "            type_of_number = text[text.find('Phone Line Type:'):text.find('\\nPhone Company:')].split(':')[1].strip()\n",
    "        \n",
    "            #Appednign the result in the form of a dictionary\n",
    "            ph_number_type.append({number:type_of_number})\n",
    "    print(len(ph_number_type))\n",
    "    \n",
    "    driver.close()\n",
    "\n",
    "\n",
    "if __name__ == \"__main__\":   \n",
    "    ph_number_type = []\n",
    "    # creating a pool object\n",
    "    p = multiprocessing.Pool()\n",
    "  \n",
    "    # map list to target function\n",
    "    p.map(phone_number, phone_numbers)"
   ]
  },
  {
   "cell_type": "code",
   "execution_count": 4,
   "id": "626fc358-6063-4b25-bc4f-9903687e989c",
   "metadata": {},
   "outputs": [
    {
     "ename": "NameError",
     "evalue": "name 'os' is not defined",
     "output_type": "error",
     "traceback": [
      "\u001b[1;31m---------------------------------------------------------------------------\u001b[0m",
      "\u001b[1;31mRemoteTraceback\u001b[0m                           Traceback (most recent call last)",
      "\u001b[1;31mRemoteTraceback\u001b[0m: \n\"\"\"\nTraceback (most recent call last):\n  File \"C:\\Users\\Vivek D\\AppData\\Local\\Programs\\Python\\Python311\\Lib\\multiprocessing\\pool.py\", line 125, in worker\n    result = (True, func(*args, **kwds))\n                    ^^^^^^^^^^^^^^^^^^^\n  File \"C:\\Users\\Vivek D\\AppData\\Local\\Programs\\Python\\Python311\\Lib\\multiprocessing\\pool.py\", line 48, in mapstar\n    return list(map(*args))\n           ^^^^^^^^^^^^^^^^\n  File \"D:\\function.py\", line 8, in squarefunction\n    print(\"Worker process id for {0}: {1}\".format(n, os.getpid()))\n                                                     ^^\nNameError: name 'os' is not defined\n\"\"\"",
      "\nThe above exception was the direct cause of the following exception:\n",
      "\u001b[1;31mNameError\u001b[0m                                 Traceback (most recent call last)",
      "Cell \u001b[1;32mIn[4], line 15\u001b[0m\n\u001b[0;32m     12\u001b[0m p \u001b[38;5;241m=\u001b[39m multiprocessing\u001b[38;5;241m.\u001b[39mPool(processes \u001b[38;5;241m=\u001b[39m \u001b[38;5;241m2\u001b[39m)\n\u001b[0;32m     14\u001b[0m \u001b[38;5;66;03m# map list to target function\u001b[39;00m\n\u001b[1;32m---> 15\u001b[0m result \u001b[38;5;241m=\u001b[39m \u001b[43mp\u001b[49m\u001b[38;5;241;43m.\u001b[39;49m\u001b[43mmap\u001b[49m\u001b[43m(\u001b[49m\u001b[43mfunction\u001b[49m\u001b[38;5;241;43m.\u001b[39;49m\u001b[43msquarefunction\u001b[49m\u001b[43m,\u001b[49m\u001b[43m \u001b[49m\u001b[43mmylist\u001b[49m\u001b[43m)\u001b[49m\n\u001b[0;32m     17\u001b[0m \u001b[38;5;28mprint\u001b[39m(result)\n",
      "File \u001b[1;32m~\\AppData\\Local\\Programs\\Python\\Python311\\Lib\\multiprocessing\\pool.py:367\u001b[0m, in \u001b[0;36mPool.map\u001b[1;34m(self, func, iterable, chunksize)\u001b[0m\n\u001b[0;32m    362\u001b[0m \u001b[38;5;28;01mdef\u001b[39;00m \u001b[38;5;21mmap\u001b[39m(\u001b[38;5;28mself\u001b[39m, func, iterable, chunksize\u001b[38;5;241m=\u001b[39m\u001b[38;5;28;01mNone\u001b[39;00m):\n\u001b[0;32m    363\u001b[0m \u001b[38;5;250m    \u001b[39m\u001b[38;5;124;03m'''\u001b[39;00m\n\u001b[0;32m    364\u001b[0m \u001b[38;5;124;03m    Apply `func` to each element in `iterable`, collecting the results\u001b[39;00m\n\u001b[0;32m    365\u001b[0m \u001b[38;5;124;03m    in a list that is returned.\u001b[39;00m\n\u001b[0;32m    366\u001b[0m \u001b[38;5;124;03m    '''\u001b[39;00m\n\u001b[1;32m--> 367\u001b[0m     \u001b[38;5;28;01mreturn\u001b[39;00m \u001b[38;5;28;43mself\u001b[39;49m\u001b[38;5;241;43m.\u001b[39;49m\u001b[43m_map_async\u001b[49m\u001b[43m(\u001b[49m\u001b[43mfunc\u001b[49m\u001b[43m,\u001b[49m\u001b[43m \u001b[49m\u001b[43miterable\u001b[49m\u001b[43m,\u001b[49m\u001b[43m \u001b[49m\u001b[43mmapstar\u001b[49m\u001b[43m,\u001b[49m\u001b[43m \u001b[49m\u001b[43mchunksize\u001b[49m\u001b[43m)\u001b[49m\u001b[38;5;241;43m.\u001b[39;49m\u001b[43mget\u001b[49m\u001b[43m(\u001b[49m\u001b[43m)\u001b[49m\n",
      "File \u001b[1;32m~\\AppData\\Local\\Programs\\Python\\Python311\\Lib\\multiprocessing\\pool.py:774\u001b[0m, in \u001b[0;36mApplyResult.get\u001b[1;34m(self, timeout)\u001b[0m\n\u001b[0;32m    772\u001b[0m     \u001b[38;5;28;01mreturn\u001b[39;00m \u001b[38;5;28mself\u001b[39m\u001b[38;5;241m.\u001b[39m_value\n\u001b[0;32m    773\u001b[0m \u001b[38;5;28;01melse\u001b[39;00m:\n\u001b[1;32m--> 774\u001b[0m     \u001b[38;5;28;01mraise\u001b[39;00m \u001b[38;5;28mself\u001b[39m\u001b[38;5;241m.\u001b[39m_value\n",
      "\u001b[1;31mNameError\u001b[0m: name 'os' is not defined"
     ]
    }
   ],
   "source": [
    "# Python program to understand\n",
    "# the concept of pool\n",
    "import multiprocessing\n",
    "import os\n",
    "import function\n",
    "\n",
    "if __name__ == \"__main__\":\n",
    "\t# input list\n",
    "\tmylist = [1,2,3,4,5]\n",
    "\n",
    "\t# creating a pool object\n",
    "\tp = multiprocessing.Pool(processes = 2)\n",
    "\n",
    "\t# map list to target function\n",
    "\tresult = p.map(function.squares, mylist)\n",
    "\n",
    "\tprint(result)"
   ]
  },
  {
   "cell_type": "code",
   "execution_count": null,
   "id": "ecd356c1-651b-46ad-aa54-a2ea1ed297b5",
   "metadata": {},
   "outputs": [],
   "source": [
    "ph_number_type = []\n",
    "for number in phone_numbers:\n",
    "    \n",
    "    #initializing the the edge webdriver.\n",
    "    driver = webdriver.Firefox('C:/Users/Vivek D/Downloads/geckodriver')\n",
    "    \n",
    "    #Maximizing the window of the browser.\n",
    "    driver.maximize_window()\n",
    "    \n",
    "    #Getting the desired URL/webpage opened in the browser.\n",
    "    driver.get('https://www.phonevalidator.com/')\n",
    "    \n",
    "    #wait the ready state to be complete\n",
    "    WebDriverWait(driver=driver, timeout=20).until(lambda x: x.execute_script(\"return document.readyState === 'complete'\"))\n",
    "    \n",
    "    #click on the authentication button\n",
    "    driver.find_element('xpath',value='//*[@id=\"AuthCookieButton\"]').click()\n",
    "    \n",
    "    #Finding text box to enter the phone number and entering the number in the textbox.\n",
    "    driver.find_element('xpath',value='//*[@id=\"FoneNumur\"]').send_keys(number)\n",
    "    \n",
    "    #Clicking the search button after entering the phone number.\n",
    "    driver.find_element('xpath',value='//*[@id=\"tymdusnotub\"]').click()\n",
    "    \n",
    "    #Wait for the webpage to fetch the results.\n",
    "    WebDriverWait(driver=driver, timeout=10).until(lambda x: x.execute_script(\"return document.readyState === 'complete'\"))\n",
    "    try:\n",
    "        \n",
    "        if driver.find_element('xpath', value='//*[@id=\"search-result-top-div\"]/div/p[1]').text == 'FAKE NUMBER FOUND!':\n",
    "            ph_number_type.append({number:'FAKE NUMBER FOUND!'})\n",
    "        else:\n",
    "            pass\n",
    "    except NoSuchElementException:\n",
    "            #Getting the text of the result generated.\n",
    "            text = driver.find_element('xpath', value='//*[@id=\"search-result-top-div\"]/div[1]').text\n",
    "            \n",
    "            #Slicing the string of result to get just Type of Number.\n",
    "            type_of_number = text[text.find('Phone Line Type:'):text.find('\\nPhone Company:')].split(':')[1].strip()\n",
    "        \n",
    "            #Appednign the result in the form of a dictionary\n",
    "            ph_number_type.append({number:type_of_number})\n",
    "    \n",
    "    driver.close()"
   ]
  },
  {
   "cell_type": "code",
   "execution_count": null,
   "id": "8b54bcce-49df-4fed-93dd-93b72f68e5d0",
   "metadata": {},
   "outputs": [],
   "source": [
    "ph_number_type"
   ]
  },
  {
   "cell_type": "code",
   "execution_count": null,
   "id": "c67ceaf3-0586-42fb-9113-a5e4f3a26c9a",
   "metadata": {},
   "outputs": [],
   "source": [
    "  "
   ]
  },
  {
   "cell_type": "code",
   "execution_count": null,
   "id": "8f4d3c2a-4f06-4ee1-93b8-45ca2eea814e",
   "metadata": {},
   "outputs": [],
   "source": []
  }
 ],
 "metadata": {
  "kernelspec": {
   "display_name": "Python 3 (ipykernel)",
   "language": "python",
   "name": "python3"
  },
  "language_info": {
   "codemirror_mode": {
    "name": "ipython",
    "version": 3
   },
   "file_extension": ".py",
   "mimetype": "text/x-python",
   "name": "python",
   "nbconvert_exporter": "python",
   "pygments_lexer": "ipython3",
   "version": "3.11.3"
  }
 },
 "nbformat": 4,
 "nbformat_minor": 5
}
